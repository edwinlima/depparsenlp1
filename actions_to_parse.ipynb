{
 "cells": [
  {
   "cell_type": "code",
   "execution_count": 1,
   "metadata": {
    "collapsed": false
   },
   "outputs": [],
   "source": [
    "#practice inputs\n",
    "action_dict_reverse = {'L_appos': 51, 'L_iobj': 83, 'R_predet': 72, 'R_complm': 64, 'L_possessive': 11, 'L_punct': 9, 'R_neg': 56, 'L_rcmod': 61, 'R_attr': 78, 'L_number': 79, 'L_advmod': 33, 'L_neg': 55, 'R_pobj': 16, 'R_root': 2, 'R_punct': 10, 'R_prt': 82, 'L_abbrev': 93, 'L_ccomp': 47, 'R_cop': 96, 'L_predet': 71, 'R_auxpass': 36, 'R_prep': 18, 'R_partmod': 32, 'R_purpcl': 90, 'R_cc': 26, 'R_nsubj': 22, 'R_expl': 88, 'L_nn': 5, 'R_tmod': 50, 'R_preconj': 92, 'R_xcomp': 46, 'L_csubj': 73, 'L_aux': 39, 'L_conj': 27, 'R_dobj': 24, 'L_tmod': 49, 'L_nsubj': 21, 'R_possessive': 12, 'R_conj': 28, 'R_det': 8, 'L_cc': 25, 'L_complm': 63, 'R_number': 80, 'R_npadvmod': 54, 'R_num': 4, 'R_dep': 30, 'L_dobj': 23, 'L_root': 1, 'R_csubj': 74, 'L_purpcl': 89, 'L_nsubjpass': 37, 'R_nsubjpass': 38, 'L_acomp': 41, 'L_csubjpass': 97, 'R_nn': 6, 'L_det': 7, 'L_preconj': 91, 'L_auxpass': 35, 'L_rel': 85, 'L_prep': 17, 'R_mark': 68, 'R_rcmod': 62, 'R_rel': 86, 'L_xcomp': 45, 'L_mark': 67, 'L_poss': 13, 'L_attr': 77, 'L_advcl': 69, 'R_abbrev': 94, 'R_parataxis': 66, 'R_aux': 40, 'R_appos': 52, 'R_iobj': 84, 'L_amod': 19, 'L_num': 3, 'R_advcl': 70, 'R_mwe': 76, 'L_infmod': 57, 'R_quantmod': 44, 'R_pcomp': 60, 'R_advmod': 34, 'L_quantmod': 43, 'L_expl': 87, 'R_amod': 20, 'L_pcomp': 59, 'L_pobj': 15, 'R_csubjpass': 98, 'L_npadvmod': 53, 'R_ccomp': 48, 'L_partmod': 31, 'L_cop': 95, 'L_dep': 29, 'L_prt': 81, 'L_parataxis': 65, 'R_acomp': 42, 'Shift': 0, 'R_infmod': 58, 'L_mwe': 75, 'R_poss': 14}\n",
    "action_dict = {v:k for k,v in action_dict_reverse.items()}\n",
    "\n",
    "s_b_actions = [[-1, -1, 1, 0], [-1, 1, 2, 0], [1, 2, 1, 0], [2, 3, 1, 0], [3, 4, 1, 0], [4, 5, 1, 3], [3, 5, 1, 5], [2, 5, 1, 7], [1, 5, 1, 0], [5, 6, 1, 0], [6, 7, 1, 0], [7, 8, 1, 0], [8, 9, 1, 7], [7, 9, 1, 9], [6, 9, 1, 0], [9, 10, 1, 10], [6, 9, 1, 0], [9, 11, 1, 0], [11, 12, 1, 0], [12, 13, 1, 12], [11, 12, 1, 0], [12, 14, 1, 0], [14, 15, 1, 5], [12, 15, 1, 13], [11, 15, 1, 16], [9, 11, 1, 18], [6, 9, 1, 16], [5, 6, 1, 18], [1, 5, 1, 0], [5, 16, 1, 0], [16, 17, 1, 0], [17, 18, 1, 0], [18, 19, 1, 19], [17, 19, 1, 0], [19, 20, 1, 21], [17, 20, 1, 9], [16, 20, 1, 9], [5, 20, 1, 0], [20, 21, 1, 0], [21, 22, 1, 7], [20, 22, 1, 24], [5, 20, 1, 0], [20, 23, 1, 0], [23, 24, 1, 0], [24, 25, 1, 5], [23, 25, 1, 16], [20, 23, 1, 18], [5, 20, 1, 0], [20, 26, 1, 10], [5, 20, 1, 0], [20, 27, 1, 10], [5, 20, 1, 0], [20, 28, 1, 0], [28, 29, 1, 26], [20, 28, 1, 0], [28, 30, 1, 28], [20, 28, 1, 30], [5, 20, 1, 0], [20, 31, 1, 10], [5, 20, 1, 30], [1, 5, 1, 16], [-1, 1, 32, 0], [1, 32, 1, 0], [32, 33, 1, 0], [33, 34, 1, 7], [32, 34, 1, 0], [34, 35, 1, 0], [35, 36, 1, 16], [34, 35, 1, 18], [32, 34, 1, 0], [34, 37, 1, 10], [32, 34, 1, 0], [34, 38, 1, 0], [38, 39, 1, 0], [39, 40, 1, 0], [40, 41, 1, 5], [39, 41, 1, 16], [38, 39, 1, 18], [34, 38, 1, 32], [32, 34, 1, 0], [34, 42, 1, 10], [32, 34, 1, 0], [34, 43, 1, 0], [43, 44, 1, 0], [44, 45, 1, 33], [43, 45, 1, 35], [34, 45, 1, 37], [32, 45, 1, 9], [1, 45, 1, 17], [-1, 45, 46, 0], [45, 46, 45, 0], [46, 47, 45, 0], [47, 48, 45, 5], [46, 48, 45, 16], [45, 46, 45, 18], [-1, 45, 49, 0], [45, 49, 45, 10], [-1, 45, -1, 2]]\n",
    "actions = [x[-1] for x in s_b_actions]\n",
    "\n",
    "sentence_complete = [['1', 'In', '_', 'IN', 'IN', '_', '45', 'prep', '_', '_'], ['2', 'an', '_', 'DT', 'DT', '_', '5', 'det', '_', '_'], ['3', 'Oct.', '_', 'NNP', 'NNP', '_', '5', 'nn', '_', '_'], ['4', '19', '_', 'CD', 'CD', '_', '5', 'num', '_', '_'], ['5', 'review', '_', 'NN', 'NN', '_', '1', 'pobj', '_', '_'], ['6', 'of', '_', 'IN', 'IN', '_', '5', 'prep', '_', '_'], ['7', '``', '_', '``', '``', '_', '9', 'punct', '_', '_'], ['8', 'The', '_', 'DT', 'DT', '_', '9', 'det', '_', '_'], ['9', 'Misanthrope', '_', 'NN', 'NN', '_', '6', 'pobj', '_', '_'], ['10', \"''\", '_', \"''\", \"''\", '_', '9', 'punct', '_', '_'], ['11', 'at', '_', 'IN', 'IN', '_', '9', 'prep', '_', '_'], ['12', 'Chicago', '_', 'NNP', 'NNP', '_', '15', 'poss', '_', '_'], ['13', \"'s\", '_', 'POS', 'POS', '_', '12', 'possessive', '_', '_'], ['14', 'Goodman', '_', 'NNP', 'NNP', '_', '15', 'nn', '_', '_'], ['15', 'Theatre', '_', 'NNP', 'NNP', '_', '11', 'pobj', '_', '_'], ['16', '-LRB-', '_', '-LRB-', '-LRB-', '_', '20', 'punct', '_', '_'], ['17', '``', '_', '``', '``', '_', '20', 'punct', '_', '_'], ['18', 'Revitalized', '_', 'VBN', 'VBN', '_', '19', 'amod', '_', '_'], ['19', 'Classics', '_', 'NNS', 'NNS', '_', '20', 'nsubj', '_', '_'], ['20', 'Take', '_', 'VBP', 'VBP', '_', '5', 'dep', '_', '_'], ['21', 'the', '_', 'DT', 'DT', '_', '22', 'det', '_', '_'], ['22', 'Stage', '_', 'NN', 'NN', '_', '20', 'dobj', '_', '_'], ['23', 'in', '_', 'IN', 'IN', '_', '20', 'prep', '_', '_'], ['24', 'Windy', '_', 'NNP', 'NNP', '_', '25', 'nn', '_', '_'], ['25', 'City', '_', 'NNP', 'NNP', '_', '23', 'pobj', '_', '_'], ['26', ',', '_', ',', ',', '_', '20', 'punct', '_', '_'], ['27', \"''\", '_', \"''\", \"''\", '_', '20', 'punct', '_', '_'], ['28', 'Leisure', '_', 'NN', 'NN', '_', '20', 'dep', '_', '_'], ['29', '&', '_', 'CC', 'CC', '_', '28', 'cc', '_', '_'], ['30', 'Arts', '_', 'NNS', 'NNS', '_', '28', 'conj', '_', '_'], ['31', '-RRB-', '_', '-RRB-', '-RRB-', '_', '20', 'punct', '_', '_'], ['32', ',', '_', ',', ',', '_', '45', 'punct', '_', '_'], ['33', 'the', '_', 'DT', 'DT', '_', '34', 'det', '_', '_'], ['34', 'role', '_', 'NN', 'NN', '_', '45', 'nsubjpass', '_', '_'], ['35', 'of', '_', 'IN', 'IN', '_', '34', 'prep', '_', '_'], ['36', 'Celimene', '_', 'NNP', 'NNP', '_', '35', 'pobj', '_', '_'], ['37', ',', '_', ',', ',', '_', '34', 'punct', '_', '_'], ['38', 'played', '_', 'VBN', 'VBN', '_', '34', 'partmod', '_', '_'], ['39', 'by', '_', 'IN', 'IN', '_', '38', 'prep', '_', '_'], ['40', 'Kim', '_', 'NNP', 'NNP', '_', '41', 'nn', '_', '_'], ['41', 'Cattrall', '_', 'NNP', 'NNP', '_', '39', 'pobj', '_', '_'], ['42', ',', '_', ',', ',', '_', '34', 'punct', '_', '_'], ['43', 'was', '_', 'VBD', 'VBD', '_', '45', 'auxpass', '_', '_'], ['44', 'mistakenly', '_', 'RB', 'RB', '_', '45', 'advmod', '_', '_'], ['45', 'attributed', '_', 'VBN', 'VBN', '_', '0', 'root', '_', '_'], ['46', 'to', '_', 'TO', 'TO', '_', '45', 'prep', '_', '_'], ['47', 'Christina', '_', 'NNP', 'NNP', '_', '48', 'nn', '_', '_'], ['48', 'Haag', '_', 'NNP', 'NNP', '_', '46', 'pobj', '_', '_'], ['49', '.', '_', '.', '.', '_', '45', 'punct', '_', '_']]\n",
    "sentence = [x[1] for x in sentence_complete]"
   ]
  },
  {
   "cell_type": "code",
   "execution_count": 2,
   "metadata": {
    "collapsed": false
   },
   "outputs": [],
   "source": [
    "def convert_actions_to_parse(sentence,actions,action_dict):\n",
    "    sentence_parse = [[i+1,word,'_','_','_','_','_','_','_','_'] for i, word in enumerate(sentence)]\n",
    "    stack = []\n",
    "    buff = list(range(1,len(sentence)+1))\n",
    "    for action in actions:\n",
    "        if len(stack) == 1 and len(buff) == 0:\n",
    "            #writing the root information to the last word\n",
    "            sentence_parse[stack[0]-1][6] = 0\n",
    "            sentence_parse[stack[0]-1][7] = 'root'\n",
    "        elif action == 0:\n",
    "            # perform a shift\n",
    "            stack, buff = Shift(stack, buff)\n",
    "        elif action%2 == 1:\n",
    "            # left-arc. All left tags are odd in the dictionary\n",
    "            stack, sentence_parse = L_arc(stack, sentence_parse, action_dict, action)\n",
    "        else:\n",
    "            # right-arc. All right tags are even in the dictionary\n",
    "            stack, sentence_parse = R_arc(stack, sentence_parse, action_dict, action)\n",
    "    return sentence_parse\n",
    "            \n"
   ]
  },
  {
   "cell_type": "code",
   "execution_count": 3,
   "metadata": {
    "collapsed": false
   },
   "outputs": [],
   "source": [
    "def L_arc(stack, sentence_parse, action_dict, action):\n",
    "    #removes second to last item from stack, sends info to sentence_parse\n",
    "\n",
    "    s1 = int(stack[-2])\n",
    "    s2 = int(stack[-1]) \n",
    "    action_type = action_dict[action]\n",
    "    \n",
    "    #update head and relation for s1\n",
    "    sentence_parse[s1-1][6] = s2\n",
    "    sentence_parse[s1-1][7] = action_type[2:]\n",
    "    \n",
    "    del stack[-2]\n",
    "    return stack, sentence_parse\n",
    "\n",
    "\n",
    "\n",
    "def R_arc(stack, sentence_parse, action_dict, action):\n",
    "    #removes last item from the stack, sends info to sentence_parse\n",
    "\n",
    "    s1 = int(stack[-2])\n",
    "    s2 = int(stack[-1])\n",
    "    action_type = action_dict[action]\n",
    "\n",
    "    #update head and relation for s2\n",
    "    sentence_parse[s2-1][6] = s1\n",
    "    sentence_parse[s2-1][7] = action_type[2:]\n",
    "    \n",
    "    del stack[-1]\n",
    "    return stack, sentence_parse\n",
    "\n",
    "\n",
    "\n",
    "def Shift(stack, buff):\n",
    "    #moves an item from the buff to the stack\n",
    "    #input: stack, buff\n",
    "    #output: new stack and buff\n",
    "    stack.append(buff[0])\n",
    "    del buff[0]\n",
    "    return stack, buff"
   ]
  },
  {
   "cell_type": "code",
   "execution_count": 4,
   "metadata": {
    "collapsed": false
   },
   "outputs": [],
   "source": [
    "sentence_parse = convert_actions_to_parse(sentence,actions,action_dict)"
   ]
  },
  {
   "cell_type": "code",
   "execution_count": null,
   "metadata": {
    "collapsed": false
   },
   "outputs": [],
   "source": []
  },
  {
   "cell_type": "code",
   "execution_count": null,
   "metadata": {
    "collapsed": true
   },
   "outputs": [],
   "source": []
  }
 ],
 "metadata": {
  "kernelspec": {
   "display_name": "Python 3",
   "language": "python",
   "name": "python3"
  },
  "language_info": {
   "codemirror_mode": {
    "name": "ipython",
    "version": 3
   },
   "file_extension": ".py",
   "mimetype": "text/x-python",
   "name": "python",
   "nbconvert_exporter": "python",
   "pygments_lexer": "ipython3",
   "version": "3.5.2"
  }
 },
 "nbformat": 4,
 "nbformat_minor": 0
}
