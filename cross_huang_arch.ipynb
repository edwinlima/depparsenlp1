{
 "cells": [
  {
   "cell_type": "code",
   "execution_count": 1,
   "metadata": {
    "collapsed": false
   },
   "outputs": [],
   "source": [
    "##############################\n",
    "# import modules\n",
    "##############################\n",
    "from __future__ import absolute_import\n",
    "from __future__ import division\n",
    "from __future__ import print_function\n",
    "\n",
    "import time\n",
    "\n",
    "import numpy as np\n",
    "import tensorflow as tf\n",
    "\n",
    "from tensorflow.models.rnn.ptb import reader\n",
    "from gensim import models"
   ]
  },
  {
   "cell_type": "code",
   "execution_count": 2,
   "metadata": {
    "collapsed": false
   },
   "outputs": [],
   "source": [
    "##############################\n",
    "# import modules\n",
    "#############################\n",
    "\n",
    "\n",
    "# function that computes the real, unpadded lenghts for every sequence in batch\n",
    "def length(sequence):\n",
    "    \"\"\"\n",
    "    function that computes the real, unpadded lenghts for every sequence in batch\n",
    "    \"\"\"\n",
    "    used = tf.sign(tf.reduce_max(tf.abs(sequence), reduction_indices=2))\n",
    "    length = tf.reduce_sum(used, reduction_indices=1)\n",
    "    length = tf.cast(length, tf.int32)\n",
    "    return length\n",
    "\n",
    "def mlp(_X, _weights, _biases):\n",
    "    \"\"\"\n",
    "    function that defines a multilayer perceptron in the graph\n",
    "    input shape: parse_steps (=?) x filtered_words (=3) x lstm_output_length (=400)\n",
    "    \"\"\"\n",
    "    # ReLU hidden layer (output shape: parse_steps x n_hidden)\n",
    "    layer_1 = tf.nn.relu(tf.add(tf.einsum('ijk,kl->il', _X, _weights['h']), _biases['b'])) \n",
    "    # return output layer (output shape: parse_steps x n_classes)\n",
    "    return tf.add(tf.einsum('ik,kl->il', layer_1, _weights['out']), _biases['out'])\n",
    "\n",
    "def embedding_lookup(sentences, max_seq_length, vec_length):\n",
    "    \"\"\"\n",
    "    function that looks up embeddings.\n",
    "    input: list of sentences, length of sentences, length of word vectors\n",
    "    output: 3D array of word vectors per sentence \n",
    "                (dims #sentences x sentence_length x embedding_size)\n",
    "    \"\"\"\n",
    "    # TODO: deal with sentences of different lengths\n",
    "    sentence_embeddings = np.empty((0,max_seq_length,vec_length))\n",
    "    for sentence in sentences:\n",
    "        word_embeddings = np.empty((0,vec_length))\n",
    "        for word in sentence:\n",
    "            word_embeddings = np.vstack([word_embeddings, model[word]])\n",
    "        if len(sentence) < max_seq_length:\n",
    "            zero_padding_length = max_seq_length - len(sentence)\n",
    "            word_embeddings = np.vstack([word_embeddings, np.zeros((zero_padding_length, vec_length))])\n",
    "        sentence_embeddings = np.append(sentence_embeddings, np.array([word_embeddings]), axis=0)\n",
    "    return sentence_embeddings\n"
   ]
  },
  {
   "cell_type": "code",
   "execution_count": 3,
   "metadata": {
    "collapsed": false
   },
   "outputs": [
    {
     "name": "stdout",
     "output_type": "stream",
     "text": [
      "model loaded from disk\n",
      "Sentence embedding shape (np-array):  (2, 7, 189)\n",
      "BiLSTM output shape:  (2, 7, 400)\n",
      "MLP output shape S0:  (4, 50)\n",
      "MLP output shape S1:  (3, 50)\n"
     ]
    }
   ],
   "source": [
    "##############################\n",
    "# build graph\n",
    "##############################\n",
    "\n",
    "# reset graph (and clear namespace)\n",
    "tf.reset_default_graph()\n",
    "\n",
    "# for testing purposes:\n",
    "sess = tf.InteractiveSession()\n",
    "\n",
    "# hyperparameters (from Cross & Huang, 2016)\n",
    "batch_size = 10\n",
    "n_input = 400\n",
    "n_hidden = 200\n",
    "n_classes = 50 # TODO: how many classes for the actual data?\n",
    "lstm_units = 200\n",
    "num_epochs = 10\n",
    "dropout = 0.5\n",
    "L2_penalty = 0.\n",
    "adadelta_rho = 0.99\n",
    "adadelta_epsilon = 1e-07\n",
    "\n",
    "\n",
    "# Store layers weight & bias\n",
    "weights = {\n",
    "    'h': tf.Variable(tf.random_normal([n_input, n_hidden], dtype=tf.float64)),\n",
    "    'out': tf.Variable(tf.random_normal([n_hidden, n_classes], dtype=tf.float64))\n",
    "}\n",
    "biases = {\n",
    "    'b': tf.Variable(tf.random_normal([n_hidden], dtype=tf.float64)),\n",
    "    'out': tf.Variable(tf.random_normal([n_classes], dtype=tf.float64))\n",
    "}\n",
    "\n",
    "\n",
    "# load word2vec model\n",
    "model_name = \"dep_parser_word2vec_total\"\n",
    "model = models.word2vec.Word2Vec.load(model_name)\n",
    "print(\"model loaded from disk\")\n",
    "\n",
    "\n",
    "# dummy data:\n",
    "# toy sentences\n",
    "sentences = [[\"the\", \"by\", \"an\", \"on\", \"the\", \"in\", \"an\"], [\"the\", \"cat\", \"sat\", \"on\", \"the\", \"ground\"]]\n",
    "# toy variables from sentences (TODO: should be computed, not fixed) \n",
    "vec_length = 189\n",
    "seq_lengths = [len(sentence) for sentence in sentences]\n",
    "max_seq_length = max(seq_lengths)\n",
    "# toy parse (= array with an action and word indices)\n",
    "# parses = [np.array([[0,-1,-1,0], [0,-1,0,1], [1,0,1,2], [0,1,2,3]]),\n",
    "#           np.array([[0,-1,-1,0], [0,-1,0,1], [1,0,1,2], [0,1,2,3], [3,2,3,4]])]\n",
    "parses = [np.array([[1,0,1,2], \n",
    "                    [0,1,2,3],\n",
    "                    [0,1,2,3],\n",
    "                    [1,0,1,2]]),\n",
    "          np.array([[1,0,1,2], \n",
    "                    [0,1,2,3], \n",
    "                    [3,2,3,4]])]\n",
    "\n",
    "\n",
    "# look up embeddings of words in sentence (added dimension is for the model to understand the structure)\n",
    "embeddings = embedding_lookup(sentences, max_seq_length, vec_length)\n",
    "print(\"Sentence embedding shape (np-array): \", embeddings.shape)\n",
    "\n",
    "\n",
    "# define LSTM cell + dropout wrapper (like Cross & Huang)\n",
    "cell = tf.nn.rnn_cell.BasicLSTMCell(num_units=lstm_units, state_is_tuple=True)\n",
    "cell = tf.nn.rnn_cell.DropoutWrapper(cell=cell, output_keep_prob=0.5)\n",
    "\n",
    "# define bidirectional architecture\n",
    "outputs, states = tf.nn.bidirectional_dynamic_rnn(\n",
    "    cell_fw=cell,\n",
    "    cell_bw=cell,\n",
    "    dtype=tf.float64,\n",
    "    sequence_length=seq_lengths,\n",
    "    inputs=embeddings\n",
    ")\n",
    "\n",
    "# fw/bw output (num_sequences x max_seq_length x lstm_units) and final state ()\n",
    "output_fw, output_bw = outputs\n",
    "states_fw, states_bw = states\n",
    "\n",
    "# concatenate forward & backward outputs per word\n",
    "output_lstm = tf.concat(2, outputs)\n",
    "\n",
    "print(\"BiLSTM output shape: \", output_lstm.get_shape())\n",
    "\n",
    "sess.run(tf.initialize_all_variables())\n",
    "\n",
    "# MLP layer\n",
    "for i in range(0, len(sentences)):\n",
    "    sentence, parse = output_lstm[i], parses[i]\n",
    "    # input: parse_steps (=?) x filtered_words (=3) x lstm_output_length (=400)\n",
    "    output_mlp = mlp(tf.gather(sentence, parse[:,1:]), weights, biases)\n",
    "    print(\"MLP output shape S{}: \".format(i), output_mlp.get_shape())\n",
    "    cost = tf.reduce_sum(tf.nn.sparse_softmax_cross_entropy_with_logits(output_mlp, parse[:,0]))\n",
    "\n"
   ]
  },
  {
   "cell_type": "markdown",
   "metadata": {},
   "source": [
    "# After this, it's just stuff I use(d) for building and testing the main files above!\n",
    "<p><p>"
   ]
  },
  {
   "cell_type": "code",
   "execution_count": 3,
   "metadata": {
    "collapsed": false
   },
   "outputs": [
    {
     "name": "stdout",
     "output_type": "stream",
     "text": [
      "Tensor(\"y:0\", shape=(?,), dtype=int32)\n",
      "Batch shape: (5, 4)\n",
      "[[0 0 0 0]\n",
      " [1 0 0 0]\n",
      " [1 2 0 0]\n",
      " [1 2 3 0]\n",
      " [1 2 3 4]]\n"
     ]
    }
   ],
   "source": [
    "##############################\n",
    "# WORKING BATCHING EXAMPLE\n",
    "##############################\n",
    "\n",
    "# [0, 1, 2, 3, 4 ,...]\n",
    "x = tf.range(1, 10, name=\"x\")\n",
    " \n",
    "# A queue that outputs 0,1,2,3,...\n",
    "range_q = tf.train.range_input_producer(limit=5, shuffle=False)\n",
    "slice_end = range_q.dequeue()\n",
    " \n",
    "# Slice x to variable length, i.e. [0], [0, 1], [0, 1, 2], ....\n",
    "y = tf.slice(x, [0], [slice_end], name=\"y\")\n",
    "print(y)\n",
    " \n",
    "# Batch the variable length tensor with dynamic padding\n",
    "batched_data = tf.train.batch(\n",
    "    tensors=[y],\n",
    "    batch_size=5,\n",
    "    dynamic_pad=True,\n",
    "    name=\"y_batch\"\n",
    ")\n",
    " \n",
    "# Run the graph\n",
    "# tf.contrib.learn takes care of starting the queues for us\n",
    "res = tf.contrib.learn.run_n({\"y\": batched_data}, n=1, feed_dict=None)\n",
    " \n",
    "# Print the result\n",
    "print(\"Batch shape: {}\".format(res[0][\"y\"].shape))\n",
    "print(res[0][\"y\"])"
   ]
  },
  {
   "cell_type": "code",
   "execution_count": 4,
   "metadata": {
    "collapsed": false
   },
   "outputs": [
    {
     "name": "stdout",
     "output_type": "stream",
     "text": [
      "(8, 8)\n",
      "(8, 8)\n",
      "(8, 8)\n"
     ]
    }
   ],
   "source": [
    "##############################\n",
    "# BATCHING WORK IN PROGRESS\n",
    "##############################\n",
    "\n",
    "tf.reset_default_graph()\n",
    "\n",
    "batch_size = 3\n",
    "hidden_units = 200\n",
    "\n",
    "# dummy data\n",
    "X = np.random.randn(2, 10, 8)\n",
    "W = np.random.randn(10, 8, 8)\n",
    "Y = np.random.randn(10, 6, 8)\n",
    "Z = np.random.randn(10, 5, 8)\n",
    "tensors = [W,Y,Z]\n",
    "\n",
    "\n",
    "# divide sentences over batches, and perform 0-padding\n",
    "# TODO: how can the data in this tensor have a different sequence length per case?\n",
    "batched_data = tf.train.batch(\n",
    "    tensors=[W],\n",
    "    batch_size=batch_size,\n",
    "    enqueue_many=True,\n",
    "    dynamic_pad=True,\n",
    "    name=\"y_batch\"\n",
    ")\n",
    "\n",
    "res = tf.contrib.learn.run_n({\"y\": batched_data}, n=1, feed_dict=None)\n",
    "\n",
    "for batch in res[0][\"y\"]:\n",
    "    print(batch.shape)\n",
    "# Print the result\n",
    "# print(\"Batch: {}\".format(res[0][\"y\"]))\n",
    "# print(res[0][\"y\"])\n"
   ]
  },
  {
   "cell_type": "code",
   "execution_count": 18,
   "metadata": {
    "collapsed": false
   },
   "outputs": [
    {
     "ename": "KeyboardInterrupt",
     "evalue": "",
     "output_type": "error",
     "traceback": [
      "\u001b[0;31m---------------------------------------------------------------------------\u001b[0m",
      "\u001b[0;31mKeyboardInterrupt\u001b[0m                         Traceback (most recent call last)",
      "\u001b[0;32m<ipython-input-18-1e866bcfad9a>\u001b[0m in \u001b[0;36m<module>\u001b[0;34m()\u001b[0m\n\u001b[1;32m     12\u001b[0m \u001b[0;34m\u001b[0m\u001b[0m\n\u001b[1;32m     13\u001b[0m     \u001b[0;32mtry\u001b[0m\u001b[0;34m:\u001b[0m\u001b[0;34m\u001b[0m\u001b[0m\n\u001b[0;32m---> 14\u001b[0;31m         \u001b[0;32mwhile\u001b[0m \u001b[0;32mnot\u001b[0m \u001b[0mcoord\u001b[0m\u001b[0;34m.\u001b[0m\u001b[0mshould_stop\u001b[0m\u001b[0;34m(\u001b[0m\u001b[0;34m)\u001b[0m\u001b[0;34m:\u001b[0m\u001b[0;34m\u001b[0m\u001b[0m\n\u001b[0m\u001b[1;32m     15\u001b[0m             \u001b[0;31m# Run training steps or whatever\u001b[0m\u001b[0;34m\u001b[0m\u001b[0;34m\u001b[0m\u001b[0m\n\u001b[1;32m     16\u001b[0m             \u001b[0;32mpass\u001b[0m\u001b[0;34m\u001b[0m\u001b[0m\n",
      "\u001b[0;32m/Users/Lucas/anaconda/envs/pydl/lib/python2.7/site-packages/tensorflow/python/training/coordinator.pyc\u001b[0m in \u001b[0;36mshould_stop\u001b[0;34m(self)\u001b[0m\n\u001b[1;32m    259\u001b[0m       \u001b[0mTrue\u001b[0m \u001b[0;32mif\u001b[0m \u001b[0ma\u001b[0m \u001b[0mstop\u001b[0m \u001b[0mwas\u001b[0m \u001b[0mrequested\u001b[0m\u001b[0;34m.\u001b[0m\u001b[0;34m\u001b[0m\u001b[0m\n\u001b[1;32m    260\u001b[0m     \"\"\"\n\u001b[0;32m--> 261\u001b[0;31m     \u001b[0;32mreturn\u001b[0m \u001b[0mself\u001b[0m\u001b[0;34m.\u001b[0m\u001b[0m_stop_event\u001b[0m\u001b[0;34m.\u001b[0m\u001b[0mis_set\u001b[0m\u001b[0;34m(\u001b[0m\u001b[0;34m)\u001b[0m\u001b[0;34m\u001b[0m\u001b[0m\n\u001b[0m\u001b[1;32m    262\u001b[0m \u001b[0;34m\u001b[0m\u001b[0m\n\u001b[1;32m    263\u001b[0m   \u001b[0;34m@\u001b[0m\u001b[0mcontextlib\u001b[0m\u001b[0;34m.\u001b[0m\u001b[0mcontextmanager\u001b[0m\u001b[0;34m\u001b[0m\u001b[0m\n",
      "\u001b[0;31mKeyboardInterrupt\u001b[0m: "
     ]
    }
   ],
   "source": [
    "##############################\n",
    "# COORDINATION EXAMPLE\n",
    "##############################\n",
    "# do NOT run as this does not terminate yet\n",
    "\n",
    "# # possible format for initializing input\n",
    "# input_images = tf.constant(data_sets.train.images)\n",
    "# input_labels = tf.constant(data_sets.train.labels)\n",
    "\n",
    "# image, label = tf.train.slice_input_producer(\n",
    "#     [input_images, input_labels], num_epochs=FLAGS.num_epochs)\n",
    "# label = tf.cast(label, tf.int32)\n",
    "# images, labels = tf.train.batch(\n",
    "#     [image, label], batch_size=FLAGS.batch_size)\n",
    "\n",
    "\n",
    "# Create the graph, etc.\n",
    "init_op = tf.initialize_all_variables()\n",
    "\n",
    "# Create a session for running operations in the Graph.\n",
    "with tf.Session() as sess:\n",
    "    # Initialize the variables (like the epoch counter).\n",
    "    sess.run(init_op)\n",
    "\n",
    "    # Start input enqueue threads.\n",
    "    coord = tf.train.Coordinator()\n",
    "    threads = tf.train.start_queue_runners(sess=sess, coord=coord)\n",
    "\n",
    "    try:\n",
    "        while not coord.should_stop():\n",
    "            # Run training steps or whatever\n",
    "            pass\n",
    "\n",
    "    except tf.errors.OutOfRangeError:\n",
    "        print('Done training -- epoch limit reached')\n",
    "    finally:\n",
    "        # When done, ask the threads to stop.\n",
    "        coord.request_stop()\n",
    "\n",
    "    # Wait for threads to finish.\n",
    "    coord.join(threads)\n"
   ]
  },
  {
   "cell_type": "code",
   "execution_count": 42,
   "metadata": {
    "collapsed": false
   },
   "outputs": [
    {
     "name": "stdout",
     "output_type": "stream",
     "text": [
      "model loaded from disk\n"
     ]
    }
   ],
   "source": [
    "# load model:\n",
    "model_name = \"dep_parser_word2vec_total\"\n",
    "model = models.word2vec.Word2Vec.load(model_name)\n",
    "print(\"model loaded from disk\")\n"
   ]
  },
  {
   "cell_type": "code",
   "execution_count": 46,
   "metadata": {
    "collapsed": false
   },
   "outputs": [
    {
     "name": "stdout",
     "output_type": "stream",
     "text": [
      "(6, 189)\n"
     ]
    }
   ],
   "source": [
    "# toy sentence\n",
    "sentence = [\"the\", \"cat\", \"sat\", \"on\", \"the\", \"ground\"]\n",
    "vec_length = model[sentence[0]].size\n",
    "\n",
    "\n",
    "def embedding_lookup(sentence, vec_length):\n",
    "    \"\"\"\n",
    "    function that takes a sentence, and returns an 2D np-array of \n",
    "    word vectors with dims sentence_length x embedding_size\n",
    "    \"\"\"\n",
    "    sentence_embeddings = np.empty((0,vec_length))\n",
    "    for word in sentence:\n",
    "        sentence_embeddings = np.vstack([sentence_embeddings, model[word]])\n",
    "    return sentence_embeddings\n",
    "\n",
    "\n",
    "embeddings = embedding_lookup(sentence, vec_length)\n",
    "\n",
    "print(embeddings.shape)\n"
   ]
  },
  {
   "cell_type": "code",
   "execution_count": 60,
   "metadata": {
    "collapsed": false
   },
   "outputs": [
    {
     "data": {
      "text/plain": [
       "TensorShape([Dimension(2), Dimension(3), Dimension(2)])"
      ]
     },
     "execution_count": 60,
     "metadata": {},
     "output_type": "execute_result"
    }
   ],
   "source": [
    "a = [np.array([[1,2],[3,4],[5,6]]),np.array([[1,2],[3,4],[5,6]])]\n",
    "\n",
    "b = tf.pack(a)\n",
    "\n",
    "b.get_shape()"
   ]
  },
  {
   "cell_type": "code",
   "execution_count": null,
   "metadata": {
    "collapsed": true
   },
   "outputs": [],
   "source": []
  }
 ],
 "metadata": {
  "anaconda-cloud": {},
  "kernelspec": {
   "display_name": "Python [conda env:python3]",
   "language": "python",
   "name": "conda-env-python3-py"
  },
  "language_info": {
   "codemirror_mode": {
    "name": "ipython",
    "version": 3
   },
   "file_extension": ".py",
   "mimetype": "text/x-python",
   "name": "python",
   "nbconvert_exporter": "python",
   "pygments_lexer": "ipython3",
   "version": "3.5.2"
  }
 },
 "nbformat": 4,
 "nbformat_minor": 1
}
